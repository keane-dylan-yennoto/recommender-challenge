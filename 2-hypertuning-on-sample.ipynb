{
 "cells": [
  {
   "cell_type": "code",
   "execution_count": 1,
   "id": "e0b53ab0-1c7d-46a5-a417-74bd37fa3ae2",
   "metadata": {},
   "outputs": [],
   "source": [
    "import pandas as pd"
   ]
  },
  {
   "cell_type": "markdown",
   "id": "cc029b79-2d34-411c-8656-f2970d76def4",
   "metadata": {},
   "source": [
    "### Import Data"
   ]
  },
  {
   "cell_type": "code",
   "execution_count": 2,
   "id": "887d129b-c9b2-4d17-a403-51e9e1531805",
   "metadata": {},
   "outputs": [],
   "source": [
    "df_sample_train = pd.read_csv('sample_train.csv')\n",
    "df_sample_train = df_sample_train.iloc[:,1:]"
   ]
  },
  {
   "cell_type": "code",
   "execution_count": 3,
   "id": "6bea40b4-b5ca-4a64-bd65-6cd16c99882f",
   "metadata": {},
   "outputs": [
    {
     "data": {
      "text/html": [
       "<div>\n",
       "<style scoped>\n",
       "    .dataframe tbody tr th:only-of-type {\n",
       "        vertical-align: middle;\n",
       "    }\n",
       "\n",
       "    .dataframe tbody tr th {\n",
       "        vertical-align: top;\n",
       "    }\n",
       "\n",
       "    .dataframe thead th {\n",
       "        text-align: right;\n",
       "    }\n",
       "</style>\n",
       "<table border=\"1\" class=\"dataframe\">\n",
       "  <thead>\n",
       "    <tr style=\"text-align: right;\">\n",
       "      <th></th>\n",
       "      <th>user_id</th>\n",
       "      <th>item_id</th>\n",
       "      <th>rating</th>\n",
       "    </tr>\n",
       "  </thead>\n",
       "  <tbody>\n",
       "    <tr>\n",
       "      <th>0</th>\n",
       "      <td>2</td>\n",
       "      <td>2</td>\n",
       "      <td>4.0</td>\n",
       "    </tr>\n",
       "    <tr>\n",
       "      <th>1</th>\n",
       "      <td>2</td>\n",
       "      <td>3726</td>\n",
       "      <td>3.0</td>\n",
       "    </tr>\n",
       "    <tr>\n",
       "      <th>2</th>\n",
       "      <td>2</td>\n",
       "      <td>1499</td>\n",
       "      <td>3.0</td>\n",
       "    </tr>\n",
       "    <tr>\n",
       "      <th>3</th>\n",
       "      <td>2</td>\n",
       "      <td>3595</td>\n",
       "      <td>4.0</td>\n",
       "    </tr>\n",
       "    <tr>\n",
       "      <th>4</th>\n",
       "      <td>2</td>\n",
       "      <td>1488</td>\n",
       "      <td>1.0</td>\n",
       "    </tr>\n",
       "    <tr>\n",
       "      <th>...</th>\n",
       "      <td>...</td>\n",
       "      <td>...</td>\n",
       "      <td>...</td>\n",
       "    </tr>\n",
       "    <tr>\n",
       "      <th>5970580</th>\n",
       "      <td>162536</td>\n",
       "      <td>151</td>\n",
       "      <td>4.0</td>\n",
       "    </tr>\n",
       "    <tr>\n",
       "      <th>5970581</th>\n",
       "      <td>162536</td>\n",
       "      <td>855</td>\n",
       "      <td>3.0</td>\n",
       "    </tr>\n",
       "    <tr>\n",
       "      <th>5970582</th>\n",
       "      <td>162536</td>\n",
       "      <td>546</td>\n",
       "      <td>2.0</td>\n",
       "    </tr>\n",
       "    <tr>\n",
       "      <th>5970583</th>\n",
       "      <td>162536</td>\n",
       "      <td>1577</td>\n",
       "      <td>4.0</td>\n",
       "    </tr>\n",
       "    <tr>\n",
       "      <th>5970584</th>\n",
       "      <td>162536</td>\n",
       "      <td>847</td>\n",
       "      <td>3.0</td>\n",
       "    </tr>\n",
       "  </tbody>\n",
       "</table>\n",
       "<p>5970585 rows × 3 columns</p>\n",
       "</div>"
      ],
      "text/plain": [
       "         user_id  item_id  rating\n",
       "0              2        2     4.0\n",
       "1              2     3726     3.0\n",
       "2              2     1499     3.0\n",
       "3              2     3595     4.0\n",
       "4              2     1488     1.0\n",
       "...          ...      ...     ...\n",
       "5970580   162536      151     4.0\n",
       "5970581   162536      855     3.0\n",
       "5970582   162536      546     2.0\n",
       "5970583   162536     1577     4.0\n",
       "5970584   162536      847     3.0\n",
       "\n",
       "[5970585 rows x 3 columns]"
      ]
     },
     "execution_count": 3,
     "metadata": {},
     "output_type": "execute_result"
    }
   ],
   "source": [
    "df_sample_train"
   ]
  },
  {
   "cell_type": "code",
   "execution_count": 4,
   "id": "a0ee7862-aee5-4ead-911a-b4fadc99a06c",
   "metadata": {},
   "outputs": [],
   "source": [
    "from surprise import Reader, Dataset\n",
    "from surprise import SVD\n",
    "from surprise.model_selection import cross_validate"
   ]
  },
  {
   "cell_type": "code",
   "execution_count": 5,
   "id": "625354bc-33b9-470c-8c23-2e1528edbe07",
   "metadata": {},
   "outputs": [],
   "source": [
    "reader = Reader(rating_scale=(1, 5))\n",
    "data_train = Dataset.load_from_df(df_sample_train, reader)"
   ]
  },
  {
   "cell_type": "markdown",
   "id": "97d699f5-ca9e-4be6-b110-9cd1054658f5",
   "metadata": {},
   "source": [
    "### Hyperparameter Tuning On Random Sample"
   ]
  },
  {
   "cell_type": "code",
   "execution_count": 6,
   "id": "367dc271-3690-4acc-baa2-73cc0967957b",
   "metadata": {},
   "outputs": [],
   "source": [
    "import time"
   ]
  },
  {
   "cell_type": "code",
   "execution_count": 7,
   "id": "c15508d3-cbce-463d-b37b-70e736c12ab8",
   "metadata": {},
   "outputs": [],
   "source": [
    "svd_param_grid = {\"n_factors\": [20, 50, 80], \"n_epochs\": [40, 60, 80], \"lr_all\": [0.002, 0.005, 0.007], \"reg_all\": [0.02, 0.05, 0.1]}"
   ]
  },
  {
   "cell_type": "markdown",
   "id": "d88ddf63-981b-4e1b-a79e-df205ab2893a",
   "metadata": {},
   "source": [
    "hypertuning done 'manually' since no 'checkpoint' if using built in function"
   ]
  },
  {
   "cell_type": "code",
   "execution_count": null,
   "id": "9fe628a7-b581-4518-8135-8c864929abb0",
   "metadata": {},
   "outputs": [],
   "source": [
    "models = {}\n",
    "\n",
    "model_template = {\n",
    "    'status':False,\n",
    "    'model':'',\n",
    "    'n_factors':'',\n",
    "    'n_epochs':'',\n",
    "    'lr_all':'',\n",
    "    'reg_all':'',\n",
    "    'result':''}\n",
    "\n",
    "fails = {}\n",
    "fail_count = 0\n",
    "fail_template = {\n",
    "    'n_factors':'',\n",
    "    'n_epochs':'',\n",
    "    'lr_all':'',\n",
    "    'reg_all':''\n",
    "}\n",
    "\n",
    "\n",
    "model_count = 0\n",
    "start_time_svd_tune = time.time()\n",
    "for factor in svd_param_grid['n_factors']:\n",
    "    for epoch in svd_param_grid['n_epochs']:\n",
    "        for lr in svd_param_grid['lr_all']:\n",
    "            for ref in svd_param_grid['reg_all']:\n",
    "\n",
    "                model_template_current = model_template.copy()\n",
    "                model_template_current['n_factors'] = factor\n",
    "                model_template_current['n_epochs'] = epoch\n",
    "                model_template_current['lr_all'] = lr\n",
    "                model_template_current['reg_all'] = ref\n",
    "\n",
    "                try:\n",
    "                    print('running model ',model_count)\n",
    "                    start_one = time.time()\n",
    "                    current_svd = SVD(n_factors=factor, n_epochs = epoch, lr_all=lr, reg_all=ref)\n",
    "                    result = cross_validate(current_svd, data_train, measures=[\"RMSE\"], cv=3, verbose=True)\n",
    "                    model_template_current['status'] = True\n",
    "                    model_template_current['result'] = result\n",
    "                    model_template_current['model'] = model_count\n",
    "                    models[model_count] = model_template_current\n",
    "                    print(model_count,' training done ', time.strftime('%H:%M:%S', time.gmtime(end_time_svd_tune - start_time_svd_tune)))\n",
    "                    model_count += 1\n",
    "                    end_one = time.time()\n",
    "                except:\n",
    "                    fail_count +=1\n",
    "                    print('# of fails : ', fail_count)\n",
    "                    fail_template_current = fail_template.copy()\n",
    "                    fail_template_current['n_factors'] = factor\n",
    "                    fail_template_current['n_epochs'] = epoch\n",
    "                    fail_template_current['lr_all'] = lr\n",
    "                    fail_template_current['reg_all'] = ref\n",
    "\n",
    "                    fails[fail_count] = fail_template_current\n",
    "\n",
    "                continue\n",
    "\n",
    "end_time_svd_tune = time.time()\n",
    "print(time.strftime('%H:%M:%S', time.gmtime(end_time_svd_tune - start_time_svd_tune)))"
   ]
  },
  {
   "cell_type": "code",
   "execution_count": null,
   "id": "8b0c6fb2-4618-443b-9040-27f389768dc9",
   "metadata": {},
   "outputs": [],
   "source": []
  }
 ],
 "metadata": {
  "kernelspec": {
   "display_name": "Python 3 (ipykernel)",
   "language": "python",
   "name": "python3"
  },
  "language_info": {
   "codemirror_mode": {
    "name": "ipython",
    "version": 3
   },
   "file_extension": ".py",
   "mimetype": "text/x-python",
   "name": "python",
   "nbconvert_exporter": "python",
   "pygments_lexer": "ipython3",
   "version": "3.8.5"
  }
 },
 "nbformat": 4,
 "nbformat_minor": 5
}
