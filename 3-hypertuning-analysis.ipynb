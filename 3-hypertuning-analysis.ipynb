{
 "cells": [
  {
   "cell_type": "code",
   "execution_count": 28,
   "metadata": {},
   "outputs": [],
   "source": [
    "import pandas as pd\n",
    "import numpy as np\n",
    "import ast"
   ]
  },
  {
   "cell_type": "code",
   "execution_count": 16,
   "metadata": {},
   "outputs": [],
   "source": [
    "df_tuning = pd.read_csv('81.csv')"
   ]
  },
  {
   "cell_type": "code",
   "execution_count": 17,
   "metadata": {},
   "outputs": [],
   "source": [
    "df_tuning = df_tuning.iloc[:,1:]"
   ]
  },
  {
   "cell_type": "code",
   "execution_count": 33,
   "metadata": {},
   "outputs": [],
   "source": [
    "df_tuning['result'] = df_tuning['result'].apply(lambda x: ast.literal_eval(x.replace(\"\\'\", \"\\\"\").replace('array', '')))"
   ]
  },
  {
   "cell_type": "code",
   "execution_count": 34,
   "metadata": {},
   "outputs": [],
   "source": [
    "df_tuning['mean'] = df_tuning['result'].apply(lambda x: np.mean(x['test_rmse']))"
   ]
  },
  {
   "cell_type": "code",
   "execution_count": 36,
   "metadata": {},
   "outputs": [],
   "source": [
    "df_tuning.sort_values(by='mean',inplace=True)"
   ]
  },
  {
   "cell_type": "code",
   "execution_count": 42,
   "metadata": {},
   "outputs": [
    {
     "data": {
      "text/html": [
       "<div>\n",
       "<style scoped>\n",
       "    .dataframe tbody tr th:only-of-type {\n",
       "        vertical-align: middle;\n",
       "    }\n",
       "\n",
       "    .dataframe tbody tr th {\n",
       "        vertical-align: top;\n",
       "    }\n",
       "\n",
       "    .dataframe thead th {\n",
       "        text-align: right;\n",
       "    }\n",
       "</style>\n",
       "<table border=\"1\" class=\"dataframe\">\n",
       "  <thead>\n",
       "    <tr style=\"text-align: right;\">\n",
       "      <th></th>\n",
       "      <th>status</th>\n",
       "      <th>model</th>\n",
       "      <th>n_factors</th>\n",
       "      <th>n_epochs</th>\n",
       "      <th>lr_all</th>\n",
       "      <th>reg_all</th>\n",
       "      <th>result</th>\n",
       "      <th>mean</th>\n",
       "    </tr>\n",
       "  </thead>\n",
       "  <tbody>\n",
       "    <tr>\n",
       "      <th>67</th>\n",
       "      <td>True</td>\n",
       "      <td>67</td>\n",
       "      <td>80</td>\n",
       "      <td>60</td>\n",
       "      <td>0.005</td>\n",
       "      <td>0.05</td>\n",
       "      <td>{'test_rmse': [0.80066891, 0.80128475, 0.80051...</td>\n",
       "      <td>0.800824</td>\n",
       "    </tr>\n",
       "    <tr>\n",
       "      <th>76</th>\n",
       "      <td>True</td>\n",
       "      <td>76</td>\n",
       "      <td>80</td>\n",
       "      <td>80</td>\n",
       "      <td>0.005</td>\n",
       "      <td>0.05</td>\n",
       "      <td>{'test_rmse': [0.80088887, 0.80107599, 0.80074...</td>\n",
       "      <td>0.800904</td>\n",
       "    </tr>\n",
       "    <tr>\n",
       "      <th>49</th>\n",
       "      <td>True</td>\n",
       "      <td>49</td>\n",
       "      <td>50</td>\n",
       "      <td>80</td>\n",
       "      <td>0.005</td>\n",
       "      <td>0.05</td>\n",
       "      <td>{'test_rmse': [0.80110971, 0.80159608, 0.80104...</td>\n",
       "      <td>0.801249</td>\n",
       "    </tr>\n",
       "    <tr>\n",
       "      <th>40</th>\n",
       "      <td>True</td>\n",
       "      <td>40</td>\n",
       "      <td>50</td>\n",
       "      <td>60</td>\n",
       "      <td>0.005</td>\n",
       "      <td>0.05</td>\n",
       "      <td>{'test_rmse': [0.80167208, 0.8008585, 0.801346...</td>\n",
       "      <td>0.801293</td>\n",
       "    </tr>\n",
       "    <tr>\n",
       "      <th>70</th>\n",
       "      <td>True</td>\n",
       "      <td>70</td>\n",
       "      <td>80</td>\n",
       "      <td>60</td>\n",
       "      <td>0.007</td>\n",
       "      <td>0.05</td>\n",
       "      <td>{'test_rmse': [0.80195916, 0.80131741, 0.80144...</td>\n",
       "      <td>0.801574</td>\n",
       "    </tr>\n",
       "  </tbody>\n",
       "</table>\n",
       "</div>"
      ],
      "text/plain": [
       "    status  model  n_factors  n_epochs  lr_all  reg_all  \\\n",
       "67    True     67         80        60   0.005     0.05   \n",
       "76    True     76         80        80   0.005     0.05   \n",
       "49    True     49         50        80   0.005     0.05   \n",
       "40    True     40         50        60   0.005     0.05   \n",
       "70    True     70         80        60   0.007     0.05   \n",
       "\n",
       "                                               result      mean  \n",
       "67  {'test_rmse': [0.80066891, 0.80128475, 0.80051...  0.800824  \n",
       "76  {'test_rmse': [0.80088887, 0.80107599, 0.80074...  0.800904  \n",
       "49  {'test_rmse': [0.80110971, 0.80159608, 0.80104...  0.801249  \n",
       "40  {'test_rmse': [0.80167208, 0.8008585, 0.801346...  0.801293  \n",
       "70  {'test_rmse': [0.80195916, 0.80131741, 0.80144...  0.801574  "
      ]
     },
     "execution_count": 42,
     "metadata": {},
     "output_type": "execute_result"
    }
   ],
   "source": [
    "df_tuning.head()"
   ]
  },
  {
   "cell_type": "code",
   "execution_count": 44,
   "metadata": {},
   "outputs": [],
   "source": [
    "#lets train on whole dataset"
   ]
  }
 ],
 "metadata": {
  "kernelspec": {
   "display_name": "base",
   "language": "python",
   "name": "python3"
  },
  "language_info": {
   "codemirror_mode": {
    "name": "ipython",
    "version": 3
   },
   "file_extension": ".py",
   "mimetype": "text/x-python",
   "name": "python",
   "nbconvert_exporter": "python",
   "pygments_lexer": "ipython3",
   "version": "3.9.7"
  },
  "orig_nbformat": 4
 },
 "nbformat": 4,
 "nbformat_minor": 2
}
