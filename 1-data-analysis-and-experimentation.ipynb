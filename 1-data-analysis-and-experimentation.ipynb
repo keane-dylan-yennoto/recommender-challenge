{
 "cells": [
  {
   "cell_type": "code",
   "execution_count": 14,
   "id": "e0b53ab0-1c7d-46a5-a417-74bd37fa3ae2",
   "metadata": {},
   "outputs": [],
   "source": [
    "import pandas as pd"
   ]
  },
  {
   "cell_type": "markdown",
   "id": "cc029b79-2d34-411c-8656-f2970d76def4",
   "metadata": {},
   "source": [
    "### Import Data"
   ]
  },
  {
   "cell_type": "code",
   "execution_count": 15,
   "id": "451cf1df-b685-4fd0-8576-8d7a5e1e3e37",
   "metadata": {},
   "outputs": [],
   "source": [
    "df_train = pd.read_csv('training.txt', header=None, names=['user_id', 'item_id', 'rating'])\n",
    "df_test = pd.read_csv('testing.txt', header=None, names=['user_id', 'item_id', 'rating'])"
   ]
  },
  {
   "cell_type": "code",
   "execution_count": 16,
   "id": "89f5d8ad-f679-4a19-a74a-5c008934dcec",
   "metadata": {},
   "outputs": [],
   "source": [
    "with open('item_tag.txt', 'r') as f:\n",
    "    lines = f.readlines()\n",
    "\n",
    "df_tag = pd.DataFrame({'item_id': [int(line.split(':')[0]) for line in lines],\n",
    "                   'categories': [[int(x) for x in line.split(':')[1].split(',')] for line in lines]})\n"
   ]
  },
  {
   "cell_type": "code",
   "execution_count": 17,
   "id": "e603b3b0-8898-4486-b8b9-17e3db5c5c41",
   "metadata": {},
   "outputs": [
    {
     "data": {
      "text/plain": [
       "0"
      ]
     },
     "execution_count": 17,
     "metadata": {},
     "output_type": "execute_result"
    }
   ],
   "source": [
    "df_tag_dupes = df_tag['item_id'].duplicated()\n",
    "df_tag_dupes.sum() # no duplicates of ids in the df_tag data"
   ]
  },
  {
   "cell_type": "code",
   "execution_count": 18,
   "id": "d29ba3af-0829-4223-ada8-6e50734ff3c9",
   "metadata": {},
   "outputs": [],
   "source": [
    "df_train = df_train.sort_values(by='user_id')\n",
    "df_test = df_test.sort_values(by='user_id')\n",
    "df_tag = df_tag.sort_values(by='item_id')"
   ]
  },
  {
   "cell_type": "markdown",
   "id": "6afe9e73-3a80-463c-9cb6-8674dd65d483",
   "metadata": {},
   "source": [
    "### Checking if users in test are not in train"
   ]
  },
  {
   "cell_type": "code",
   "execution_count": 19,
   "id": "de0d77bb-3302-4bcc-814d-45c1b983f947",
   "metadata": {},
   "outputs": [],
   "source": [
    "train_user_id = df_train['user_id'].drop_duplicates()\n",
    "test_user_id = df_test['user_id'].drop_duplicates()"
   ]
  },
  {
   "cell_type": "code",
   "execution_count": 20,
   "id": "6421b2ea-bc20-48c5-af7d-4cf68a492663",
   "metadata": {},
   "outputs": [
    {
     "data": {
      "text/plain": [
       "(162541,)"
      ]
     },
     "execution_count": 20,
     "metadata": {},
     "output_type": "execute_result"
    }
   ],
   "source": [
    "train_user_id.shape"
   ]
  },
  {
   "cell_type": "code",
   "execution_count": 21,
   "id": "c3ded93c-0062-4589-9338-6e5644af893e",
   "metadata": {},
   "outputs": [],
   "source": [
    "check = test_user_id.isin(train_user_id)"
   ]
  },
  {
   "cell_type": "code",
   "execution_count": 22,
   "id": "074d1434-0d7c-4806-bbca-5e5e8ec04b35",
   "metadata": {},
   "outputs": [
    {
     "data": {
      "text/plain": [
       "True"
      ]
     },
     "execution_count": 22,
     "metadata": {},
     "output_type": "execute_result"
    }
   ],
   "source": [
    "test_user_id.shape[0] == test_user_id[check].shape[0] #in further parts I also found that there are items in the test set that aren't present in the train set"
   ]
  },
  {
   "cell_type": "markdown",
   "id": "f94bd2b2-dc67-48b4-8985-6d1934df3c72",
   "metadata": {},
   "source": [
    "all user_ids in test set are in training set"
   ]
  },
  {
   "cell_type": "markdown",
   "id": "f0739220-a290-4f40-9934-83390153087b",
   "metadata": {},
   "source": [
    "### Checking ratings"
   ]
  },
  {
   "cell_type": "code",
   "execution_count": 23,
   "id": "4af1b0aa-5460-4021-a381-861610228ce0",
   "metadata": {},
   "outputs": [
    {
     "data": {
      "text/plain": [
       "3876688     0.5\n",
       "17166485    1.0\n",
       "16312916    1.5\n",
       "11389711    2.0\n",
       "2446325     2.5\n",
       "1398466     3.0\n",
       "9461865     3.5\n",
       "0           4.0\n",
       "17127033    4.5\n",
       "9470443     5.0\n",
       "Name: rating, dtype: float64"
      ]
     },
     "execution_count": 23,
     "metadata": {},
     "output_type": "execute_result"
    }
   ],
   "source": [
    "df_train['rating'].drop_duplicates().sort_values()"
   ]
  },
  {
   "cell_type": "code",
   "execution_count": 24,
   "id": "e32fc637-6ba6-46a7-8b49-8050bf115f95",
   "metadata": {},
   "outputs": [],
   "source": [
    "from surprise import Reader, Dataset"
   ]
  },
  {
   "cell_type": "code",
   "execution_count": 25,
   "id": "3a4508d6-7087-4dc4-8093-c93496e6ed20",
   "metadata": {},
   "outputs": [],
   "source": [
    "reader = Reader(rating_scale=(1, 5))\n",
    "data_train = Dataset.load_from_df(df_train, reader)"
   ]
  },
  {
   "cell_type": "markdown",
   "id": "fc284139-4583-47a9-b8d9-feca1f06a57f",
   "metadata": {},
   "source": [
    "### Testing base methods"
   ]
  },
  {
   "cell_type": "code",
   "execution_count": 26,
   "id": "234bbb20-8164-44ec-983e-ca4efa4820cf",
   "metadata": {},
   "outputs": [],
   "source": [
    "from surprise import BaselineOnly, SVD, SVDpp, NMF\n",
    "from surprise.model_selection import cross_validate"
   ]
  },
  {
   "cell_type": "code",
   "execution_count": 27,
   "id": "b7c5853c-94a4-4ec3-9ff0-4526c9c6b6c2",
   "metadata": {},
   "outputs": [
    {
     "name": "stdout",
     "output_type": "stream",
     "text": [
      "Estimating biases using als...\n"
     ]
    },
    {
     "ename": "KeyboardInterrupt",
     "evalue": "",
     "output_type": "error",
     "traceback": [
      "\u001b[1;31m---------------------------------------------------------------------------\u001b[0m",
      "\u001b[1;31mKeyboardInterrupt\u001b[0m                         Traceback (most recent call last)",
      "\u001b[1;32mc:\\Users\\keane\\OneDrive\\Documents\\DATA KEANE\\UNIVERSITY\\SEM B 22-23\\SDSC3002 Data Mining\\ass3\\v1.ipynb Cell 19\u001b[0m in \u001b[0;36m<cell line: 3>\u001b[1;34m()\u001b[0m\n\u001b[0;32m      <a href='vscode-notebook-cell:/c%3A/Users/keane/OneDrive/Documents/DATA%20KEANE/UNIVERSITY/SEM%20B%2022-23/SDSC3002%20Data%20Mining/ass3/v1.ipynb#X24sZmlsZQ%3D%3D?line=0'>1</a>\u001b[0m \u001b[39m# baseline method\u001b[39;00m\n\u001b[0;32m      <a href='vscode-notebook-cell:/c%3A/Users/keane/OneDrive/Documents/DATA%20KEANE/UNIVERSITY/SEM%20B%2022-23/SDSC3002%20Data%20Mining/ass3/v1.ipynb#X24sZmlsZQ%3D%3D?line=1'>2</a>\u001b[0m baseline \u001b[39m=\u001b[39m BaselineOnly()\n\u001b[1;32m----> <a href='vscode-notebook-cell:/c%3A/Users/keane/OneDrive/Documents/DATA%20KEANE/UNIVERSITY/SEM%20B%2022-23/SDSC3002%20Data%20Mining/ass3/v1.ipynb#X24sZmlsZQ%3D%3D?line=2'>3</a>\u001b[0m cross_validate(baseline, data_train, measures\u001b[39m=\u001b[39;49m[\u001b[39m\"\u001b[39;49m\u001b[39mRMSE\u001b[39;49m\u001b[39m\"\u001b[39;49m], cv\u001b[39m=\u001b[39;49m\u001b[39m3\u001b[39;49m, verbose\u001b[39m=\u001b[39;49m\u001b[39mTrue\u001b[39;49;00m)\n",
      "File \u001b[1;32mc:\\Users\\keane\\anaconda3\\lib\\site-packages\\surprise\\model_selection\\validation.py:108\u001b[0m, in \u001b[0;36mcross_validate\u001b[1;34m(algo, data, measures, cv, return_train_measures, n_jobs, pre_dispatch, verbose)\u001b[0m\n\u001b[0;32m    102\u001b[0m cv \u001b[39m=\u001b[39m get_cv(cv)\n\u001b[0;32m    104\u001b[0m delayed_list \u001b[39m=\u001b[39m (\n\u001b[0;32m    105\u001b[0m     delayed(fit_and_score)(algo, trainset, testset, measures, return_train_measures)\n\u001b[0;32m    106\u001b[0m     \u001b[39mfor\u001b[39;00m (trainset, testset) \u001b[39min\u001b[39;00m cv\u001b[39m.\u001b[39msplit(data)\n\u001b[0;32m    107\u001b[0m )\n\u001b[1;32m--> 108\u001b[0m out \u001b[39m=\u001b[39m Parallel(n_jobs\u001b[39m=\u001b[39;49mn_jobs, pre_dispatch\u001b[39m=\u001b[39;49mpre_dispatch)(delayed_list)\n\u001b[0;32m    110\u001b[0m (test_measures_dicts, train_measures_dicts, fit_times, test_times) \u001b[39m=\u001b[39m \u001b[39mzip\u001b[39m(\u001b[39m*\u001b[39mout)\n\u001b[0;32m    112\u001b[0m test_measures \u001b[39m=\u001b[39m \u001b[39mdict\u001b[39m()\n",
      "File \u001b[1;32mc:\\Users\\keane\\anaconda3\\lib\\site-packages\\joblib\\parallel.py:1043\u001b[0m, in \u001b[0;36mParallel.__call__\u001b[1;34m(self, iterable)\u001b[0m\n\u001b[0;32m   1034\u001b[0m \u001b[39mtry\u001b[39;00m:\n\u001b[0;32m   1035\u001b[0m     \u001b[39m# Only set self._iterating to True if at least a batch\u001b[39;00m\n\u001b[0;32m   1036\u001b[0m     \u001b[39m# was dispatched. In particular this covers the edge\u001b[39;00m\n\u001b[1;32m   (...)\u001b[0m\n\u001b[0;32m   1040\u001b[0m     \u001b[39m# was very quick and its callback already dispatched all the\u001b[39;00m\n\u001b[0;32m   1041\u001b[0m     \u001b[39m# remaining jobs.\u001b[39;00m\n\u001b[0;32m   1042\u001b[0m     \u001b[39mself\u001b[39m\u001b[39m.\u001b[39m_iterating \u001b[39m=\u001b[39m \u001b[39mFalse\u001b[39;00m\n\u001b[1;32m-> 1043\u001b[0m     \u001b[39mif\u001b[39;00m \u001b[39mself\u001b[39;49m\u001b[39m.\u001b[39;49mdispatch_one_batch(iterator):\n\u001b[0;32m   1044\u001b[0m         \u001b[39mself\u001b[39m\u001b[39m.\u001b[39m_iterating \u001b[39m=\u001b[39m \u001b[39mself\u001b[39m\u001b[39m.\u001b[39m_original_iterator \u001b[39mis\u001b[39;00m \u001b[39mnot\u001b[39;00m \u001b[39mNone\u001b[39;00m\n\u001b[0;32m   1046\u001b[0m     \u001b[39mwhile\u001b[39;00m \u001b[39mself\u001b[39m\u001b[39m.\u001b[39mdispatch_one_batch(iterator):\n",
      "File \u001b[1;32mc:\\Users\\keane\\anaconda3\\lib\\site-packages\\joblib\\parallel.py:861\u001b[0m, in \u001b[0;36mParallel.dispatch_one_batch\u001b[1;34m(self, iterator)\u001b[0m\n\u001b[0;32m    859\u001b[0m     \u001b[39mreturn\u001b[39;00m \u001b[39mFalse\u001b[39;00m\n\u001b[0;32m    860\u001b[0m \u001b[39melse\u001b[39;00m:\n\u001b[1;32m--> 861\u001b[0m     \u001b[39mself\u001b[39;49m\u001b[39m.\u001b[39;49m_dispatch(tasks)\n\u001b[0;32m    862\u001b[0m     \u001b[39mreturn\u001b[39;00m \u001b[39mTrue\u001b[39;00m\n",
      "File \u001b[1;32mc:\\Users\\keane\\anaconda3\\lib\\site-packages\\joblib\\parallel.py:779\u001b[0m, in \u001b[0;36mParallel._dispatch\u001b[1;34m(self, batch)\u001b[0m\n\u001b[0;32m    777\u001b[0m \u001b[39mwith\u001b[39;00m \u001b[39mself\u001b[39m\u001b[39m.\u001b[39m_lock:\n\u001b[0;32m    778\u001b[0m     job_idx \u001b[39m=\u001b[39m \u001b[39mlen\u001b[39m(\u001b[39mself\u001b[39m\u001b[39m.\u001b[39m_jobs)\n\u001b[1;32m--> 779\u001b[0m     job \u001b[39m=\u001b[39m \u001b[39mself\u001b[39;49m\u001b[39m.\u001b[39;49m_backend\u001b[39m.\u001b[39;49mapply_async(batch, callback\u001b[39m=\u001b[39;49mcb)\n\u001b[0;32m    780\u001b[0m     \u001b[39m# A job can complete so quickly than its callback is\u001b[39;00m\n\u001b[0;32m    781\u001b[0m     \u001b[39m# called before we get here, causing self._jobs to\u001b[39;00m\n\u001b[0;32m    782\u001b[0m     \u001b[39m# grow. To ensure correct results ordering, .insert is\u001b[39;00m\n\u001b[0;32m    783\u001b[0m     \u001b[39m# used (rather than .append) in the following line\u001b[39;00m\n\u001b[0;32m    784\u001b[0m     \u001b[39mself\u001b[39m\u001b[39m.\u001b[39m_jobs\u001b[39m.\u001b[39minsert(job_idx, job)\n",
      "File \u001b[1;32mc:\\Users\\keane\\anaconda3\\lib\\site-packages\\joblib\\_parallel_backends.py:208\u001b[0m, in \u001b[0;36mSequentialBackend.apply_async\u001b[1;34m(self, func, callback)\u001b[0m\n\u001b[0;32m    206\u001b[0m \u001b[39mdef\u001b[39;00m \u001b[39mapply_async\u001b[39m(\u001b[39mself\u001b[39m, func, callback\u001b[39m=\u001b[39m\u001b[39mNone\u001b[39;00m):\n\u001b[0;32m    207\u001b[0m     \u001b[39m\"\"\"Schedule a func to be run\"\"\"\u001b[39;00m\n\u001b[1;32m--> 208\u001b[0m     result \u001b[39m=\u001b[39m ImmediateResult(func)\n\u001b[0;32m    209\u001b[0m     \u001b[39mif\u001b[39;00m callback:\n\u001b[0;32m    210\u001b[0m         callback(result)\n",
      "File \u001b[1;32mc:\\Users\\keane\\anaconda3\\lib\\site-packages\\joblib\\_parallel_backends.py:572\u001b[0m, in \u001b[0;36mImmediateResult.__init__\u001b[1;34m(self, batch)\u001b[0m\n\u001b[0;32m    569\u001b[0m \u001b[39mdef\u001b[39;00m \u001b[39m__init__\u001b[39m(\u001b[39mself\u001b[39m, batch):\n\u001b[0;32m    570\u001b[0m     \u001b[39m# Don't delay the application, to avoid keeping the input\u001b[39;00m\n\u001b[0;32m    571\u001b[0m     \u001b[39m# arguments in memory\u001b[39;00m\n\u001b[1;32m--> 572\u001b[0m     \u001b[39mself\u001b[39m\u001b[39m.\u001b[39mresults \u001b[39m=\u001b[39m batch()\n",
      "File \u001b[1;32mc:\\Users\\keane\\anaconda3\\lib\\site-packages\\joblib\\parallel.py:262\u001b[0m, in \u001b[0;36mBatchedCalls.__call__\u001b[1;34m(self)\u001b[0m\n\u001b[0;32m    258\u001b[0m \u001b[39mdef\u001b[39;00m \u001b[39m__call__\u001b[39m(\u001b[39mself\u001b[39m):\n\u001b[0;32m    259\u001b[0m     \u001b[39m# Set the default nested backend to self._backend but do not set the\u001b[39;00m\n\u001b[0;32m    260\u001b[0m     \u001b[39m# change the default number of processes to -1\u001b[39;00m\n\u001b[0;32m    261\u001b[0m     \u001b[39mwith\u001b[39;00m parallel_backend(\u001b[39mself\u001b[39m\u001b[39m.\u001b[39m_backend, n_jobs\u001b[39m=\u001b[39m\u001b[39mself\u001b[39m\u001b[39m.\u001b[39m_n_jobs):\n\u001b[1;32m--> 262\u001b[0m         \u001b[39mreturn\u001b[39;00m [func(\u001b[39m*\u001b[39margs, \u001b[39m*\u001b[39m\u001b[39m*\u001b[39mkwargs)\n\u001b[0;32m    263\u001b[0m                 \u001b[39mfor\u001b[39;00m func, args, kwargs \u001b[39min\u001b[39;00m \u001b[39mself\u001b[39m\u001b[39m.\u001b[39mitems]\n",
      "File \u001b[1;32mc:\\Users\\keane\\anaconda3\\lib\\site-packages\\joblib\\parallel.py:262\u001b[0m, in \u001b[0;36m<listcomp>\u001b[1;34m(.0)\u001b[0m\n\u001b[0;32m    258\u001b[0m \u001b[39mdef\u001b[39;00m \u001b[39m__call__\u001b[39m(\u001b[39mself\u001b[39m):\n\u001b[0;32m    259\u001b[0m     \u001b[39m# Set the default nested backend to self._backend but do not set the\u001b[39;00m\n\u001b[0;32m    260\u001b[0m     \u001b[39m# change the default number of processes to -1\u001b[39;00m\n\u001b[0;32m    261\u001b[0m     \u001b[39mwith\u001b[39;00m parallel_backend(\u001b[39mself\u001b[39m\u001b[39m.\u001b[39m_backend, n_jobs\u001b[39m=\u001b[39m\u001b[39mself\u001b[39m\u001b[39m.\u001b[39m_n_jobs):\n\u001b[1;32m--> 262\u001b[0m         \u001b[39mreturn\u001b[39;00m [func(\u001b[39m*\u001b[39margs, \u001b[39m*\u001b[39m\u001b[39m*\u001b[39mkwargs)\n\u001b[0;32m    263\u001b[0m                 \u001b[39mfor\u001b[39;00m func, args, kwargs \u001b[39min\u001b[39;00m \u001b[39mself\u001b[39m\u001b[39m.\u001b[39mitems]\n",
      "File \u001b[1;32mc:\\Users\\keane\\anaconda3\\lib\\site-packages\\surprise\\model_selection\\validation.py:176\u001b[0m, in \u001b[0;36mfit_and_score\u001b[1;34m(algo, trainset, testset, measures, return_train_measures)\u001b[0m\n\u001b[0;32m    174\u001b[0m fit_time \u001b[39m=\u001b[39m time\u001b[39m.\u001b[39mtime() \u001b[39m-\u001b[39m start_fit\n\u001b[0;32m    175\u001b[0m start_test \u001b[39m=\u001b[39m time\u001b[39m.\u001b[39mtime()\n\u001b[1;32m--> 176\u001b[0m predictions \u001b[39m=\u001b[39m algo\u001b[39m.\u001b[39;49mtest(testset)\n\u001b[0;32m    177\u001b[0m test_time \u001b[39m=\u001b[39m time\u001b[39m.\u001b[39mtime() \u001b[39m-\u001b[39m start_test\n\u001b[0;32m    179\u001b[0m \u001b[39mif\u001b[39;00m return_train_measures:\n",
      "File \u001b[1;32mc:\\Users\\keane\\anaconda3\\lib\\site-packages\\surprise\\prediction_algorithms\\algo_base.py:160\u001b[0m, in \u001b[0;36mAlgoBase.test\u001b[1;34m(self, testset, verbose)\u001b[0m\n\u001b[0;32m    142\u001b[0m \u001b[39m\"\"\"Test the algorithm on given testset, i.e. estimate all the ratings\u001b[39;00m\n\u001b[0;32m    143\u001b[0m \u001b[39min the given testset.\u001b[39;00m\n\u001b[0;32m    144\u001b[0m \n\u001b[1;32m   (...)\u001b[0m\n\u001b[0;32m    156\u001b[0m \u001b[39m    that contains all the estimated ratings.\u001b[39;00m\n\u001b[0;32m    157\u001b[0m \u001b[39m\"\"\"\u001b[39;00m\n\u001b[0;32m    159\u001b[0m \u001b[39m# The ratings are translated back to their original scale.\u001b[39;00m\n\u001b[1;32m--> 160\u001b[0m predictions \u001b[39m=\u001b[39m [\n\u001b[0;32m    161\u001b[0m     \u001b[39mself\u001b[39m\u001b[39m.\u001b[39mpredict(uid, iid, r_ui_trans, verbose\u001b[39m=\u001b[39mverbose)\n\u001b[0;32m    162\u001b[0m     \u001b[39mfor\u001b[39;00m (uid, iid, r_ui_trans) \u001b[39min\u001b[39;00m testset\n\u001b[0;32m    163\u001b[0m ]\n\u001b[0;32m    164\u001b[0m \u001b[39mreturn\u001b[39;00m predictions\n",
      "File \u001b[1;32mc:\\Users\\keane\\anaconda3\\lib\\site-packages\\surprise\\prediction_algorithms\\algo_base.py:161\u001b[0m, in \u001b[0;36m<listcomp>\u001b[1;34m(.0)\u001b[0m\n\u001b[0;32m    142\u001b[0m \u001b[39m\"\"\"Test the algorithm on given testset, i.e. estimate all the ratings\u001b[39;00m\n\u001b[0;32m    143\u001b[0m \u001b[39min the given testset.\u001b[39;00m\n\u001b[0;32m    144\u001b[0m \n\u001b[1;32m   (...)\u001b[0m\n\u001b[0;32m    156\u001b[0m \u001b[39m    that contains all the estimated ratings.\u001b[39;00m\n\u001b[0;32m    157\u001b[0m \u001b[39m\"\"\"\u001b[39;00m\n\u001b[0;32m    159\u001b[0m \u001b[39m# The ratings are translated back to their original scale.\u001b[39;00m\n\u001b[0;32m    160\u001b[0m predictions \u001b[39m=\u001b[39m [\n\u001b[1;32m--> 161\u001b[0m     \u001b[39mself\u001b[39;49m\u001b[39m.\u001b[39;49mpredict(uid, iid, r_ui_trans, verbose\u001b[39m=\u001b[39;49mverbose)\n\u001b[0;32m    162\u001b[0m     \u001b[39mfor\u001b[39;00m (uid, iid, r_ui_trans) \u001b[39min\u001b[39;00m testset\n\u001b[0;32m    163\u001b[0m ]\n\u001b[0;32m    164\u001b[0m \u001b[39mreturn\u001b[39;00m predictions\n",
      "File \u001b[1;32mc:\\Users\\keane\\anaconda3\\lib\\site-packages\\surprise\\prediction_algorithms\\algo_base.py:119\u001b[0m, in \u001b[0;36mAlgoBase.predict\u001b[1;34m(self, uid, iid, r_ui, clip, verbose)\u001b[0m\n\u001b[0;32m    117\u001b[0m     lower_bound, higher_bound \u001b[39m=\u001b[39m \u001b[39mself\u001b[39m\u001b[39m.\u001b[39mtrainset\u001b[39m.\u001b[39mrating_scale\n\u001b[0;32m    118\u001b[0m     est \u001b[39m=\u001b[39m \u001b[39mmin\u001b[39m(higher_bound, est)\n\u001b[1;32m--> 119\u001b[0m     est \u001b[39m=\u001b[39m \u001b[39mmax\u001b[39;49m(lower_bound, est)\n\u001b[0;32m    121\u001b[0m pred \u001b[39m=\u001b[39m Prediction(uid, iid, r_ui, est, details)\n\u001b[0;32m    123\u001b[0m \u001b[39mif\u001b[39;00m verbose:\n",
      "\u001b[1;31mKeyboardInterrupt\u001b[0m: "
     ]
    }
   ],
   "source": [
    "# baseline method\n",
    "baseline = BaselineOnly()\n",
    "cross_validate(baseline, data_train, measures=[\"RMSE\"], cv=3, verbose=True)"
   ]
  },
  {
   "cell_type": "markdown",
   "id": "ae399e4c-341f-463b-9a11-984ddf9fc331",
   "metadata": {},
   "source": [
    "the baseline methods takes a long time just to train even using cloud computing thus it is unwise to use the whole dataset for experimentation. I will select a subset of the dataset that is reprentative of the population"
   ]
  },
  {
   "attachments": {},
   "cell_type": "markdown",
   "id": "ad30716a-5028-4043-85e3-e86171bb2ccc",
   "metadata": {},
   "source": [
    "The steps to ensure this is:\n",
    "I use Random User Sampling. This technique is based on the paper On Sampling Collaborative Filtering Datasets by Noveen Sachdeva et al. The researches state\n",
    "\n",
    "\" In Random User Sampling, we retain users from D at random.\n",
    "To be more specific, we iteratively preserve all the interactions\n",
    "for a random user until we have retained 𝑝% of the original interactions.\"\n",
    "\n",
    "D is the \n",
    "user_id, item_id, rating table"
   ]
  },
  {
   "cell_type": "markdown",
   "id": "36f77190-97e1-47f1-94aa-f396b69f0f43",
   "metadata": {},
   "source": [
    "### Chosing sample of data for experimentation"
   ]
  },
  {
   "cell_type": "code",
   "execution_count": 28,
   "id": "d579364a-3583-401a-8d50-62a0c06fcf8d",
   "metadata": {},
   "outputs": [],
   "source": [
    "import numpy as np"
   ]
  },
  {
   "cell_type": "code",
   "execution_count": 29,
   "id": "9cd8b5b7-ac39-4855-826e-34663fa68607",
   "metadata": {},
   "outputs": [],
   "source": [
    "train_user_id_set = set(train_user_id.copy().reset_index(drop=True))"
   ]
  },
  {
   "cell_type": "code",
   "execution_count": 30,
   "id": "58f72863-28ba-479d-8583-f3ba86bed931",
   "metadata": {},
   "outputs": [],
   "source": [
    "user_to_review_count = df_train.groupby('user_id').size()"
   ]
  },
  {
   "cell_type": "code",
   "execution_count": 31,
   "id": "c330dcee-0ffb-4821-93c1-495bc8465708",
   "metadata": {},
   "outputs": [],
   "source": [
    "review_count = df_train.shape[0]"
   ]
  },
  {
   "cell_type": "code",
   "execution_count": 32,
   "id": "4a315548-7de1-4bba-9dec-ae704cd2691e",
   "metadata": {},
   "outputs": [],
   "source": [
    "user_to_review_count_hash = {}"
   ]
  },
  {
   "cell_type": "code",
   "execution_count": 33,
   "id": "4110a4c6-a719-45d8-8b3a-373b7babd7fc",
   "metadata": {},
   "outputs": [],
   "source": [
    "for uid, val in enumerate(user_to_review_count):\n",
    "    user_to_review_count_hash[uid] = val"
   ]
  },
  {
   "cell_type": "code",
   "execution_count": 34,
   "id": "28daca4f-f0f0-4d49-bb63-a60da03d94c5",
   "metadata": {},
   "outputs": [],
   "source": [
    "import random"
   ]
  },
  {
   "cell_type": "code",
   "execution_count": 35,
   "id": "25331e3d-0213-4e3b-9db4-361e5cc836e7",
   "metadata": {},
   "outputs": [
    {
     "name": "stderr",
     "output_type": "stream",
     "text": [
      "C:\\Users\\keane\\AppData\\Local\\Temp\\ipykernel_44384\\3340725933.py:5: DeprecationWarning: Sampling from a set deprecated\n",
      "since Python 3.9 and will be removed in a subsequent version.\n",
      "  chosen_user_id = random.sample(train_user_id_set,1)[0]\n"
     ]
    }
   ],
   "source": [
    "percentage_retained = 0.30 #choosing p as 30%\n",
    "current_review_count = 0\n",
    "chosen_user_ids = []\n",
    "while current_review_count < review_count * percentage_retained:\n",
    "    chosen_user_id = random.sample(train_user_id_set,1)[0]\n",
    "    train_user_id_set.remove(chosen_user_id)\n",
    "    chosen_user_ids.append(chosen_user_id)\n",
    "    current_review_count += user_to_review_count_hash[chosen_user_id]"
   ]
  },
  {
   "cell_type": "code",
   "execution_count": 36,
   "id": "f6ee3d6d-1ee9-4a42-b4c3-0fb3b11fb239",
   "metadata": {},
   "outputs": [],
   "source": [
    "df_train_sample = df_train[df_train['user_id'].isin(set(chosen_user_ids))]"
   ]
  },
  {
   "cell_type": "code",
   "execution_count": 37,
   "id": "cc17ee2f-6890-4fa5-88e4-2f691074a01e",
   "metadata": {},
   "outputs": [
    {
     "data": {
      "text/plain": [
       "0.3000205114911854"
      ]
     },
     "execution_count": 37,
     "metadata": {},
     "output_type": "execute_result"
    }
   ],
   "source": [
    "current_review_count / review_count"
   ]
  },
  {
   "cell_type": "code",
   "execution_count": 38,
   "id": "0da3749d-5d16-499d-b078-0d6d8f69cd36",
   "metadata": {},
   "outputs": [
    {
     "data": {
      "text/plain": [
       "5999974"
      ]
     },
     "execution_count": 38,
     "metadata": {},
     "output_type": "execute_result"
    }
   ],
   "source": [
    "current_review_count"
   ]
  },
  {
   "cell_type": "code",
   "execution_count": 39,
   "id": "b6dfa7f1-e7b1-48d8-ba46-37ef4a7d3e85",
   "metadata": {},
   "outputs": [],
   "source": [
    "df_train_sample.to_csv('sample_train.csv')"
   ]
  },
  {
   "cell_type": "markdown",
   "id": "0600a9a7-0da8-4525-897d-c11ab3f0e388",
   "metadata": {},
   "source": [
    "### Testing base methods on sample"
   ]
  },
  {
   "cell_type": "code",
   "execution_count": 40,
   "id": "50686590-08e5-4864-980d-36fad9ecdfed",
   "metadata": {},
   "outputs": [],
   "source": [
    "df_train_sample = pd.read_csv('sample_train.csv')"
   ]
  },
  {
   "cell_type": "code",
   "execution_count": 41,
   "id": "e25bf25e-a034-43fe-a0ed-330593b55bce",
   "metadata": {},
   "outputs": [],
   "source": [
    "df_train_sample = df_train_sample[['user_id','item_id','rating']]"
   ]
  },
  {
   "cell_type": "code",
   "execution_count": 42,
   "id": "6a37f0bf-fc12-4f46-9094-4820a4d246f4",
   "metadata": {},
   "outputs": [],
   "source": [
    "data_train_sample = Dataset.load_from_df(df_train_sample, reader)"
   ]
  },
  {
   "cell_type": "code",
   "execution_count": 43,
   "id": "48c6c7dc-21d7-4e39-9046-5e5d6fa4c136",
   "metadata": {},
   "outputs": [],
   "source": [
    "import time"
   ]
  },
  {
   "cell_type": "code",
   "execution_count": 44,
   "id": "d4607a4c-f3b9-47cf-9c56-510cc1c6d55d",
   "metadata": {},
   "outputs": [
    {
     "name": "stdout",
     "output_type": "stream",
     "text": [
      "Estimating biases using als...\n",
      "Estimating biases using als...\n",
      "Estimating biases using als...\n",
      "Evaluating RMSE of algorithm BaselineOnly on 3 split(s).\n",
      "\n",
      "                  Fold 1  Fold 2  Fold 3  Mean    Std     \n",
      "RMSE (testset)    0.8649  0.8645  0.8642  0.8646  0.0003  \n",
      "Fit time          16.27   16.61   15.37   16.08   0.53    \n",
      "Test time         84.33   39.21   39.47   54.34   21.21   \n"
     ]
    }
   ],
   "source": [
    "# baseline method\n",
    "start_time = time.time()\n",
    "baseline = BaselineOnly()\n",
    "cross_validate(baseline, data_train_sample, measures=[\"RMSE\"], cv=3, verbose=True)\n",
    "end_time = time.time()"
   ]
  },
  {
   "cell_type": "code",
   "execution_count": 45,
   "id": "2d11c694-c2b5-4877-a1fe-540cf3937c42",
   "metadata": {},
   "outputs": [
    {
     "data": {
      "text/plain": [
       "'00:04:16'"
      ]
     },
     "execution_count": 45,
     "metadata": {},
     "output_type": "execute_result"
    }
   ],
   "source": [
    "time.strftime('%H:%M:%S', time.gmtime(end_time - start_time))"
   ]
  },
  {
   "cell_type": "code",
   "execution_count": 46,
   "id": "3b037433-3b7e-4ff5-b4b0-7429ac6f3a61",
   "metadata": {},
   "outputs": [
    {
     "name": "stdout",
     "output_type": "stream",
     "text": [
      "Evaluating RMSE of algorithm SVD on 3 split(s).\n",
      "\n",
      "                  Fold 1  Fold 2  Fold 3  Mean    Std     \n",
      "RMSE (testset)    0.8203  0.8190  0.8195  0.8196  0.0005  \n",
      "Fit time          52.59   51.35   51.76   51.90   0.51    \n",
      "Test time         53.32   46.91   35.84   45.36   7.22    \n"
     ]
    }
   ],
   "source": [
    "# SVD Method\n",
    "start_time_svd = time.time()\n",
    "svd = SVD()\n",
    "cross_validate(svd, data_train_sample, measures=[\"RMSE\"], cv=3, verbose=True)\n",
    "end_time_svd = time.time()"
   ]
  },
  {
   "cell_type": "code",
   "execution_count": 47,
   "id": "0f963543-6555-4453-ab61-920cfea0b49e",
   "metadata": {},
   "outputs": [
    {
     "data": {
      "text/plain": [
       "'00:05:42'"
      ]
     },
     "execution_count": 47,
     "metadata": {},
     "output_type": "execute_result"
    }
   ],
   "source": [
    "time.strftime('%H:%M:%S', time.gmtime(end_time_svd - start_time_svd))"
   ]
  },
  {
   "cell_type": "code",
   "execution_count": 48,
   "id": "888cc8d4-d455-4ab9-affd-a10a7b8a7817",
   "metadata": {},
   "outputs": [
    {
     "name": "stdout",
     "output_type": "stream",
     "text": [
      "Evaluating RMSE of algorithm SVDpp on 3 split(s).\n",
      "\n",
      "                  Fold 1  Fold 2  Fold 3  Mean    Std     \n",
      "RMSE (testset)    0.8148  0.8123  0.8133  0.8135  0.0010  \n",
      "Fit time          3135.24 2997.95 3003.61 3045.60 63.43   \n",
      "Test time         929.61  960.22  851.17  913.67  45.92   \n"
     ]
    }
   ],
   "source": [
    "# SVDpp Method\n",
    "start_time_svdpp = time.time()\n",
    "svdpp = SVDpp()\n",
    "cross_validate(svdpp, data_train_sample, measures=[\"RMSE\"], cv=3, verbose=True)\n",
    "end_time_svdpp = time.time()"
   ]
  },
  {
   "cell_type": "code",
   "execution_count": 49,
   "id": "ff845834-129c-4050-8145-1e680c0995aa",
   "metadata": {},
   "outputs": [
    {
     "data": {
      "text/plain": [
       "'03:18:44'"
      ]
     },
     "execution_count": 49,
     "metadata": {},
     "output_type": "execute_result"
    }
   ],
   "source": [
    "time.strftime('%H:%M:%S', time.gmtime(end_time_svdpp - start_time_svdpp))"
   ]
  },
  {
   "cell_type": "code",
   "execution_count": 50,
   "id": "5f64b54f-bc53-4988-9e9c-0f4ba59601ad",
   "metadata": {},
   "outputs": [
    {
     "name": "stdout",
     "output_type": "stream",
     "text": [
      "Evaluating RMSE of algorithm NMF on 3 split(s).\n",
      "\n",
      "                  Fold 1  Fold 2  Fold 3  Mean    Std     \n",
      "RMSE (testset)    0.8770  0.8772  0.8768  0.8770  0.0002  \n",
      "Fit time          102.28  100.11  94.79   99.06   3.15    \n",
      "Test time         58.45   49.03   46.59   51.36   5.11    \n"
     ]
    }
   ],
   "source": [
    "# nmf Method\n",
    "start_time_nmf = time.time()\n",
    "nmf = NMF()\n",
    "cross_validate(nmf, data_train_sample, measures=[\"RMSE\"], cv=3, verbose=True)\n",
    "end_time_nmf = time.time()"
   ]
  },
  {
   "cell_type": "code",
   "execution_count": 51,
   "id": "f05b224f-368c-4d9c-8159-ec700c3c28da",
   "metadata": {},
   "outputs": [
    {
     "data": {
      "text/plain": [
       "'00:08:15'"
      ]
     },
     "execution_count": 51,
     "metadata": {},
     "output_type": "execute_result"
    }
   ],
   "source": [
    "time.strftime('%H:%M:%S', time.gmtime(end_time_nmf - start_time_nmf))"
   ]
  },
  {
   "attachments": {},
   "cell_type": "markdown",
   "id": "337ae2d9",
   "metadata": {},
   "source": [
    "best RMSE in order\n",
    "- SVD++\n",
    "- SVD\n",
    "- Baseline\n",
    "- NMF\n",
    "\n",
    "to proceed with hyperparameter tuning I chose SVD instead of the SVD++ because of SVD++'s high train time"
   ]
  },
  {
   "cell_type": "code",
   "execution_count": null,
   "id": "9c634dd8",
   "metadata": {},
   "outputs": [],
   "source": []
  }
 ],
 "metadata": {
  "kernelspec": {
   "display_name": "Python 3 (ipykernel)",
   "language": "python",
   "name": "python3"
  },
  "language_info": {
   "codemirror_mode": {
    "name": "ipython",
    "version": 3
   },
   "file_extension": ".py",
   "mimetype": "text/x-python",
   "name": "python",
   "nbconvert_exporter": "python",
   "pygments_lexer": "ipython3",
   "version": "3.9.7"
  }
 },
 "nbformat": 4,
 "nbformat_minor": 5
}
