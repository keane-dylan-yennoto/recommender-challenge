{
 "cells": [
  {
   "cell_type": "code",
   "execution_count": 8,
   "id": "f8050afe-e38d-4856-b2f1-d427b76b6bfb",
   "metadata": {},
   "outputs": [],
   "source": [
    "from surprise.dump import dump, load\n",
    "import pandas as pd"
   ]
  },
  {
   "cell_type": "code",
   "execution_count": 9,
   "id": "750ff918-c4fd-4de7-b171-556354622d8d",
   "metadata": {},
   "outputs": [],
   "source": [
    "svd = load('svd_final.pkl')"
   ]
  },
  {
   "cell_type": "code",
   "execution_count": 35,
   "id": "26e3de4b-59cf-4c7c-8600-b71a2989cc2b",
   "metadata": {},
   "outputs": [],
   "source": [
    "svd_model = svd[1]"
   ]
  },
  {
   "cell_type": "code",
   "execution_count": 69,
   "id": "fe66ced5-9a87-4c2f-9bbb-00a0e01f13d3",
   "metadata": {},
   "outputs": [],
   "source": [
    "df_train = pd.read_csv('training.txt', header=None, names=['user_id', 'item_id', 'rating'])\n",
    "df_test = pd.read_csv('testing.txt', header=None, names=['user_id', 'item_id', 'rating'])"
   ]
  },
  {
   "cell_type": "code",
   "execution_count": 68,
   "id": "cfe35403-62ec-4a74-8755-5f8c60a79272",
   "metadata": {},
   "outputs": [],
   "source": [
    "predictions = []\n",
    "for index, row in df_test.iterrows():\n",
    "    user = row['user_id']\n",
    "    item = row['item_id']\n",
    "    predictions.append(svd_model.predict(user,item)[3])"
   ]
  },
  {
   "cell_type": "code",
   "execution_count": 70,
   "id": "38c55e27-6448-4ab1-9ff1-39fd70736c85",
   "metadata": {},
   "outputs": [],
   "source": [
    "df_test['rating'] = predictions"
   ]
  },
  {
   "cell_type": "code",
   "execution_count": 73,
   "id": "2496cd00-1c4a-4e37-acaa-e786cd801511",
   "metadata": {},
   "outputs": [],
   "source": [
    "df_test.to_csv('prediction.txt', index=False, header=False)"
   ]
  },
  {
   "cell_type": "code",
   "execution_count": null,
   "id": "9ee0c2c4-6652-4799-83d0-7eeee33a3502",
   "metadata": {},
   "outputs": [],
   "source": []
  }
 ],
 "metadata": {
  "kernelspec": {
   "display_name": "Python 3 (ipykernel)",
   "language": "python",
   "name": "python3"
  },
  "language_info": {
   "codemirror_mode": {
    "name": "ipython",
    "version": 3
   },
   "file_extension": ".py",
   "mimetype": "text/x-python",
   "name": "python",
   "nbconvert_exporter": "python",
   "pygments_lexer": "ipython3",
   "version": "3.8.5"
  }
 },
 "nbformat": 4,
 "nbformat_minor": 5
}
