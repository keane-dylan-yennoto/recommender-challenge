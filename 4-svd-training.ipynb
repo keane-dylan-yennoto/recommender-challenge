{
 "cells": [
  {
   "cell_type": "code",
   "execution_count": 1,
   "id": "e0b53ab0-1c7d-46a5-a417-74bd37fa3ae2",
   "metadata": {},
   "outputs": [],
   "source": [
    "import pandas as pd"
   ]
  },
  {
   "cell_type": "markdown",
   "id": "cc029b79-2d34-411c-8656-f2970d76def4",
   "metadata": {},
   "source": [
    "### Import Data"
   ]
  },
  {
   "cell_type": "code",
   "execution_count": 2,
   "id": "451cf1df-b685-4fd0-8576-8d7a5e1e3e37",
   "metadata": {},
   "outputs": [],
   "source": [
    "df_train = pd.read_csv('training.txt', header=None, names=['user_id', 'item_id', 'rating'])\n",
    "df_test = pd.read_csv('testing.txt', header=None, names=['user_id', 'item_id', 'rating'])"
   ]
  },
  {
   "cell_type": "code",
   "execution_count": 3,
   "id": "d29ba3af-0829-4223-ada8-6e50734ff3c9",
   "metadata": {},
   "outputs": [],
   "source": [
    "df_train = df_train.sort_values(by='user_id')\n",
    "df_test = df_test.sort_values(by='user_id')"
   ]
  },
  {
   "cell_type": "markdown",
   "id": "6afe9e73-3a80-463c-9cb6-8674dd65d483",
   "metadata": {},
   "source": [
    "### Checking if users in test are not in train"
   ]
  },
  {
   "cell_type": "code",
   "execution_count": 4,
   "id": "de0d77bb-3302-4bcc-814d-45c1b983f947",
   "metadata": {},
   "outputs": [],
   "source": [
    "train_user_id = df_train['user_id'].drop_duplicates()\n",
    "test_user_id = df_test['user_id'].drop_duplicates()"
   ]
  },
  {
   "cell_type": "code",
   "execution_count": 5,
   "id": "6421b2ea-bc20-48c5-af7d-4cf68a492663",
   "metadata": {},
   "outputs": [
    {
     "data": {
      "text/plain": [
       "(162541,)"
      ]
     },
     "execution_count": 5,
     "metadata": {},
     "output_type": "execute_result"
    }
   ],
   "source": [
    "train_user_id.shape"
   ]
  },
  {
   "cell_type": "code",
   "execution_count": 6,
   "id": "c3ded93c-0062-4589-9338-6e5644af893e",
   "metadata": {},
   "outputs": [],
   "source": [
    "check = test_user_id.isin(train_user_id)"
   ]
  },
  {
   "cell_type": "code",
   "execution_count": 7,
   "id": "074d1434-0d7c-4806-bbca-5e5e8ec04b35",
   "metadata": {},
   "outputs": [
    {
     "data": {
      "text/plain": [
       "True"
      ]
     },
     "execution_count": 7,
     "metadata": {},
     "output_type": "execute_result"
    }
   ],
   "source": [
    "test_user_id.shape[0] == test_user_id[check].shape[0]"
   ]
  },
  {
   "cell_type": "markdown",
   "id": "f94bd2b2-dc67-48b4-8985-6d1934df3c72",
   "metadata": {},
   "source": [
    "all user_ids in test set are in training set"
   ]
  },
  {
   "cell_type": "markdown",
   "id": "f0739220-a290-4f40-9934-83390153087b",
   "metadata": {},
   "source": [
    "### Checking ratings"
   ]
  },
  {
   "cell_type": "code",
   "execution_count": 8,
   "id": "4af1b0aa-5460-4021-a381-861610228ce0",
   "metadata": {},
   "outputs": [
    {
     "data": {
      "text/plain": [
       "3876688     0.5\n",
       "17166485    1.0\n",
       "16312916    1.5\n",
       "11389711    2.0\n",
       "2446325     2.5\n",
       "1398466     3.0\n",
       "9461865     3.5\n",
       "0           4.0\n",
       "17127033    4.5\n",
       "9470443     5.0\n",
       "Name: rating, dtype: float64"
      ]
     },
     "execution_count": 8,
     "metadata": {},
     "output_type": "execute_result"
    }
   ],
   "source": [
    "df_train['rating'].drop_duplicates().sort_values()"
   ]
  },
  {
   "cell_type": "code",
   "execution_count": 9,
   "id": "9751e811-836c-4591-a155-ced9ed8c9722",
   "metadata": {},
   "outputs": [],
   "source": [
    "from surprise import Reader, Dataset, accuracy, Reader\n",
    "from surprise import SVD\n",
    "from surprise.model_selection import cross_validate"
   ]
  },
  {
   "cell_type": "code",
   "execution_count": 10,
   "id": "b11d8e5a-63d8-4e80-8b11-fe6dc4d3ec30",
   "metadata": {},
   "outputs": [],
   "source": [
    "reader = Reader(rating_scale=(1, 5))\n",
    "data_train = Dataset.load_from_df(df_train, reader)"
   ]
  },
  {
   "cell_type": "markdown",
   "id": "0600a9a7-0da8-4525-897d-c11ab3f0e388",
   "metadata": {},
   "source": [
    "### Testing methods on MF"
   ]
  },
  {
   "cell_type": "code",
   "execution_count": 29,
   "id": "3b037433-3b7e-4ff5-b4b0-7429ac6f3a61",
   "metadata": {},
   "outputs": [
    {
     "name": "stdout",
     "output_type": "stream",
     "text": [
      "running svd\n",
      "Evaluating RMSE of algorithm SVD on 3 split(s).\n",
      "\n",
      "                  Fold 1  Fold 2  Fold 3  Mean    Std     \n",
      "RMSE (testset)    0.8010  0.8003  0.8012  0.8008  0.0004  \n",
      "Fit time          190.44  195.79  196.05  194.10  2.59    \n",
      "Test time         106.66  114.65  134.44  118.58  11.68   \n"
     ]
    },
    {
     "data": {
      "text/plain": [
       "{'test_rmse': array([0.80095148, 0.80032362, 0.8011513 ]),\n",
       " 'fit_time': (190.44161248207092, 195.79224038124084, 196.05382299423218),\n",
       " 'test_time': (106.65508317947388, 114.65052008628845, 134.4395034313202)}"
      ]
     },
     "execution_count": 29,
     "metadata": {},
     "output_type": "execute_result"
    }
   ],
   "source": [
    "# SVD Method\n",
    "print('running svd')\n",
    "svd = SVD()\n",
    "cross_validate(svd, data_train, measures=[\"RMSE\"], cv=3, verbose=True)"
   ]
  },
  {
   "cell_type": "markdown",
   "id": "97d699f5-ca9e-4be6-b110-9cd1054658f5",
   "metadata": {},
   "source": [
    "### 10 Fold Crossvalidation"
   ]
  },
  {
   "cell_type": "code",
   "execution_count": 11,
   "id": "367dc271-3690-4acc-baa2-73cc0967957b",
   "metadata": {},
   "outputs": [],
   "source": [
    "import time"
   ]
  },
  {
   "cell_type": "code",
   "execution_count": 12,
   "id": "9fe628a7-b581-4518-8135-8c864929abb0",
   "metadata": {},
   "outputs": [
    {
     "name": "stdout",
     "output_type": "stream",
     "text": [
      "Evaluating RMSE of algorithm SVD on 10 split(s).\n",
      "\n",
      "                  Fold 1  Fold 2  Fold 3  Fold 4  Fold 5  Fold 6  Fold 7  Fold 8  Fold 9  Fold 10 Mean    Std     \n",
      "RMSE (testset)    0.7782  0.7779  0.7783  0.7775  0.7775  0.7777  0.7774  0.7781  0.7790  0.7775  0.7779  0.0005  \n",
      "Fit time          687.22  681.41  695.61  691.33  690.36  686.70  687.42  702.67  666.98  681.25  687.10  9.03    \n",
      "Test time         49.57   43.97   47.96   44.85   48.12   40.19   39.92   49.96   42.25   38.39   44.52   4.04    \n"
     ]
    },
    {
     "data": {
      "text/plain": [
       "'02:09:43'"
      ]
     },
     "execution_count": 12,
     "metadata": {},
     "output_type": "execute_result"
    }
   ],
   "source": [
    "# SVD Tuning\n",
    "start_time_svd_tune = time.time()\n",
    "\n",
    "svd = SVD(n_factors=80, n_epochs = 60, lr_all=0.005, reg_all=0.05)\n",
    "result = cross_validate(svd, data_train, measures=[\"RMSE\"], cv=10, verbose=True)\n",
    "\n",
    "\n",
    "end_time_svd_tune = time.time()\n",
    "time.strftime('%H:%M:%S', time.gmtime(end_time_svd_tune - start_time_svd_tune))"
   ]
  },
  {
   "attachments": {},
   "cell_type": "markdown",
   "id": "a0a2ed5e",
   "metadata": {},
   "source": [
    "mean of 10-fold cross validation = 0.7779"
   ]
  },
  {
   "cell_type": "code",
   "execution_count": 14,
   "id": "a043904d-eaba-4634-8dbd-f4486029f2f1",
   "metadata": {},
   "outputs": [],
   "source": [
    "data_train_fit = data_train.build_full_trainset()"
   ]
  },
  {
   "cell_type": "code",
   "execution_count": 15,
   "id": "ee6555ba-c853-496e-a7b6-fdf8ab95cce6",
   "metadata": {},
   "outputs": [
    {
     "data": {
      "text/plain": [
       "<surprise.prediction_algorithms.matrix_factorization.SVD at 0x7f47e85ff730>"
      ]
     },
     "execution_count": 15,
     "metadata": {},
     "output_type": "execute_result"
    }
   ],
   "source": [
    "svd = SVD(n_factors=80, n_epochs = 60, lr_all=0.005, reg_all=0.05)\n",
    "svd.fit(data_train_fit)"
   ]
  },
  {
   "cell_type": "code",
   "execution_count": 16,
   "id": "809ae95f-8a65-468a-9ca8-f6a2a2b279d7",
   "metadata": {},
   "outputs": [],
   "source": [
    "from surprise.dump import dump, load"
   ]
  },
  {
   "cell_type": "code",
   "execution_count": null,
   "id": "d19a4bf2-806a-404c-a291-73043f669f13",
   "metadata": {},
   "outputs": [],
   "source": [
    "dump('svd_final.pkl',None,svd,1)"
   ]
  },
  {
   "cell_type": "code",
   "execution_count": null,
   "id": "511a498c-c7e2-449f-b467-a025ea0c1d96",
   "metadata": {},
   "outputs": [],
   "source": []
  }
 ],
 "metadata": {
  "kernelspec": {
   "display_name": "Python 3 (ipykernel)",
   "language": "python",
   "name": "python3"
  },
  "language_info": {
   "codemirror_mode": {
    "name": "ipython",
    "version": 3
   },
   "file_extension": ".py",
   "mimetype": "text/x-python",
   "name": "python",
   "nbconvert_exporter": "python",
   "pygments_lexer": "ipython3",
   "version": "3.8.5"
  }
 },
 "nbformat": 4,
 "nbformat_minor": 5
}
